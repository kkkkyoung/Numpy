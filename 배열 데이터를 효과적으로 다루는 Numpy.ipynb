{
 "cells": [
  {
   "cell_type": "code",
   "execution_count": 1,
   "id": "331eab48",
   "metadata": {},
   "outputs": [],
   "source": [
    "import numpy as np"
   ]
  },
  {
   "cell_type": "markdown",
   "id": "257c271f",
   "metadata": {},
   "source": [
    "# 1. 배열 생성\n",
    "- 배열이란 순서가 있는 같은 종류의 데이터가 저장된 집합\n",
    "- numpy 배열을 생성할 때 받는 시퀀스 데이터로 리트스와 튜플 타입의 데이터를 모두 사용할 수 있지만 주로 **리스트 데이터**를 이용한다."
   ]
  },
  {
   "cell_type": "code",
   "execution_count": 3,
   "id": "6dc04616",
   "metadata": {},
   "outputs": [
    {
     "data": {
      "text/plain": [
       "(array([0, 1, 2, 3, 4, 5]), dtype('int32'))"
      ]
     },
     "execution_count": 3,
     "metadata": {},
     "output_type": "execute_result"
    }
   ],
   "source": [
    "data1 = [0,1,2,3,4,5]\n",
    "a1 = np.array(data1)\n",
    "a1, a1.dtype"
   ]
  },
  {
   "cell_type": "code",
   "execution_count": 4,
   "id": "56ef4faa",
   "metadata": {},
   "outputs": [
    {
     "data": {
      "text/plain": [
       "(array([0. , 1.1, 2. , 3. , 4. , 5.1]), dtype('float64'))"
      ]
     },
     "execution_count": 4,
     "metadata": {},
     "output_type": "execute_result"
    }
   ],
   "source": [
    "data2 = [0, 1.1, 2, 3, 4, 5.1]\n",
    "a2 = np.array(data2)\n",
    "a2, a2.dtype"
   ]
  },
  {
   "cell_type": "code",
   "execution_count": 5,
   "id": "bf15ffa7",
   "metadata": {},
   "outputs": [
    {
     "data": {
      "text/plain": [
       "array([0, 1, 2, 3])"
      ]
     },
     "execution_count": 5,
     "metadata": {},
     "output_type": "execute_result"
    }
   ],
   "source": [
    "np.array([0, 1, 2, 3])"
   ]
  },
  {
   "cell_type": "code",
   "execution_count": 10,
   "id": "8d37d639",
   "metadata": {},
   "outputs": [
    {
     "data": {
      "text/plain": [
       "(array([[1, 2, 3],\n",
       "        [4, 5, 6]]),\n",
       " dtype('int32'),\n",
       " (2, 3))"
      ]
     },
     "execution_count": 10,
     "metadata": {},
     "output_type": "execute_result"
    }
   ],
   "source": [
    "data = np.array([[1, 2, 3],\n",
    "         [4, 5, 6]])\n",
    "data, data.dtype, data.shape"
   ]
  },
  {
   "cell_type": "code",
   "execution_count": 9,
   "id": "63001da3",
   "metadata": {},
   "outputs": [
    {
     "data": {
      "text/plain": [
       "(array([[1, 2, 3],\n",
       "        [4, 5, 6],\n",
       "        [7, 8, 9]]),\n",
       " dtype('int32'),\n",
       " (3, 3))"
      ]
     },
     "execution_count": 9,
     "metadata": {},
     "output_type": "execute_result"
    }
   ],
   "source": [
    "data = np.array([[1, 2, 3],\n",
    "         [4, 5, 6],\n",
    "         [7, 8, 9]])\n",
    "data, data.dtype, data.shape"
   ]
  },
  {
   "cell_type": "markdown",
   "id": "0af9ac82",
   "metadata": {},
   "source": [
    "## 1-1 범위를 지정해 배열 생성\n",
    "## arange, linspace"
   ]
  },
  {
   "cell_type": "code",
   "execution_count": 11,
   "id": "0bdfb556",
   "metadata": {},
   "outputs": [
    {
     "data": {
      "text/plain": [
       "array([ 0,  2,  4,  6,  8, 10])"
      ]
     },
     "execution_count": 11,
     "metadata": {},
     "output_type": "execute_result"
    }
   ],
   "source": [
    "np.arange(0, 12, 2)"
   ]
  },
  {
   "cell_type": "code",
   "execution_count": 12,
   "id": "920d51f9",
   "metadata": {},
   "outputs": [
    {
     "data": {
      "text/plain": [
       "array([1, 2, 3, 4, 5, 6, 7, 8, 9])"
      ]
     },
     "execution_count": 12,
     "metadata": {},
     "output_type": "execute_result"
    }
   ],
   "source": [
    "np.arange(1, 10)"
   ]
  },
  {
   "cell_type": "code",
   "execution_count": 13,
   "id": "2f3e0de8",
   "metadata": {},
   "outputs": [
    {
     "data": {
      "text/plain": [
       "array([1, 4, 7])"
      ]
     },
     "execution_count": 13,
     "metadata": {},
     "output_type": "execute_result"
    }
   ],
   "source": [
    "np.arange(1, 10, 3)"
   ]
  },
  {
   "cell_type": "code",
   "execution_count": 14,
   "id": "d17a1a40",
   "metadata": {},
   "outputs": [
    {
     "data": {
      "text/plain": [
       "array([0, 1, 2, 3])"
      ]
     },
     "execution_count": 14,
     "metadata": {},
     "output_type": "execute_result"
    }
   ],
   "source": [
    "np.arange(4)"
   ]
  },
  {
   "cell_type": "code",
   "execution_count": 16,
   "id": "484c2dc8",
   "metadata": {},
   "outputs": [
    {
     "data": {
      "text/plain": [
       "(array([[ 0,  1,  2],\n",
       "        [ 3,  4,  5],\n",
       "        [ 6,  7,  8],\n",
       "        [ 9, 10, 11]]),\n",
       " (4, 3))"
      ]
     },
     "execution_count": 16,
     "metadata": {},
     "output_type": "execute_result"
    }
   ],
   "source": [
    "a = np.arange(12).reshape(4, 3)\n",
    "a, a.shape # 2차원 배열"
   ]
  },
  {
   "cell_type": "code",
   "execution_count": 19,
   "id": "aa452a3b",
   "metadata": {},
   "outputs": [
    {
     "name": "stdout",
     "output_type": "stream",
     "text": [
      "[0 1 2 3]\n",
      "(4,)\n"
     ]
    }
   ],
   "source": [
    "b = np.arange(4)\n",
    "print(b)\n",
    "print(b.shape)  # 1차원 배열"
   ]
  },
  {
   "cell_type": "code",
   "execution_count": 21,
   "id": "1c74fb90",
   "metadata": {},
   "outputs": [
    {
     "data": {
      "text/plain": [
       "array([ 1.  ,  3.25,  5.5 ,  7.75, 10.  ])"
      ]
     },
     "execution_count": 21,
     "metadata": {},
     "output_type": "execute_result"
    }
   ],
   "source": [
    "# 1~10까지 5개의 데이터\n",
    "np.linspace(1, 10, 5)"
   ]
  },
  {
   "cell_type": "code",
   "execution_count": 22,
   "id": "f4d3de74",
   "metadata": {},
   "outputs": [
    {
     "data": {
      "text/plain": [
       "array([ 1.,  2.,  3.,  4.,  5.,  6.,  7.,  8.,  9., 10.])"
      ]
     },
     "execution_count": 22,
     "metadata": {},
     "output_type": "execute_result"
    }
   ],
   "source": [
    "# 1~10까지 10개의 데이터\n",
    "np.linspace(1, 10, 10)"
   ]
  },
  {
   "cell_type": "code",
   "execution_count": 23,
   "id": "9b9a557e",
   "metadata": {},
   "outputs": [
    {
     "data": {
      "text/plain": [
       "array([0.        , 0.16534698, 0.33069396, 0.49604095, 0.66138793,\n",
       "       0.82673491, 0.99208189, 1.15742887, 1.32277585, 1.48812284,\n",
       "       1.65346982, 1.8188168 , 1.98416378, 2.14951076, 2.31485774,\n",
       "       2.48020473, 2.64555171, 2.81089869, 2.97624567, 3.14159265])"
      ]
     },
     "execution_count": 23,
     "metadata": {},
     "output_type": "execute_result"
    }
   ],
   "source": [
    "# 0~파이 까지 동일한 간격으로 나눈 20개의 데이터\n",
    "np.linspace(0, np.pi, 20)"
   ]
  },
  {
   "cell_type": "markdown",
   "id": "63944231",
   "metadata": {},
   "source": [
    "## 1-2 특별한 형태의 배열 생성\n",
    "## zeros, ones, eye(단위행렬)"
   ]
  },
  {
   "cell_type": "code",
   "execution_count": 24,
   "id": "6a478ba2",
   "metadata": {},
   "outputs": [
    {
     "data": {
      "text/plain": [
       "array([0., 0., 0., 0., 0., 0., 0., 0., 0., 0.])"
      ]
     },
     "execution_count": 24,
     "metadata": {},
     "output_type": "execute_result"
    }
   ],
   "source": [
    "np.zeros(10)"
   ]
  },
  {
   "cell_type": "code",
   "execution_count": 25,
   "id": "0db2ae0a",
   "metadata": {},
   "outputs": [
    {
     "data": {
      "text/plain": [
       "array([[0., 0., 0.],\n",
       "       [0., 0., 0.]])"
      ]
     },
     "execution_count": 25,
     "metadata": {},
     "output_type": "execute_result"
    }
   ],
   "source": [
    "np.zeros((2, 3))"
   ]
  },
  {
   "cell_type": "code",
   "execution_count": 26,
   "id": "bfc6384d",
   "metadata": {},
   "outputs": [
    {
     "data": {
      "text/plain": [
       "array([1., 1., 1., 1.])"
      ]
     },
     "execution_count": 26,
     "metadata": {},
     "output_type": "execute_result"
    }
   ],
   "source": [
    "np.ones(4)"
   ]
  },
  {
   "cell_type": "code",
   "execution_count": 27,
   "id": "79f06d8c",
   "metadata": {},
   "outputs": [
    {
     "data": {
      "text/plain": [
       "array([[1., 1., 1., 1.],\n",
       "       [1., 1., 1., 1.]])"
      ]
     },
     "execution_count": 27,
     "metadata": {},
     "output_type": "execute_result"
    }
   ],
   "source": [
    "np.ones((2, 4))"
   ]
  },
  {
   "cell_type": "code",
   "execution_count": 28,
   "id": "3f9b29a6",
   "metadata": {},
   "outputs": [
    {
     "data": {
      "text/plain": [
       "array([[1., 0., 0.],\n",
       "       [0., 1., 0.],\n",
       "       [0., 0., 1.]])"
      ]
     },
     "execution_count": 28,
     "metadata": {},
     "output_type": "execute_result"
    }
   ],
   "source": [
    "# 단위행렬 : n x n인 정사각형 행렬에서 주 대각선이 모두 1이고 나머지는 0인 행렬\n",
    "np.eye(3)"
   ]
  },
  {
   "cell_type": "markdown",
   "id": "f364a5b0",
   "metadata": {},
   "source": [
    "## 1-3 데이터 타입 변환\n",
    "## astype(int, float, str)"
   ]
  },
  {
   "cell_type": "code",
   "execution_count": 90,
   "id": "64a85fca",
   "metadata": {},
   "outputs": [
    {
     "name": "stdout",
     "output_type": "stream",
     "text": [
      "['1.56' '2.56' '3.21']\n",
      "<U4 \n",
      "\n",
      "[1.56 2.56 3.21]\n",
      "float64\n"
     ]
    },
    {
     "data": {
      "text/plain": [
       "(None, None)"
      ]
     },
     "execution_count": 90,
     "metadata": {},
     "output_type": "execute_result"
    }
   ],
   "source": [
    "str1 = np.array(['1.56', '2.56', '3.21'])\n",
    "num1 = str1.astype(float)\n",
    "print(str1), print(str1.dtype,'\\n')\n",
    "print(num1), print(num1.dtype)"
   ]
  },
  {
   "cell_type": "markdown",
   "id": "2e656e36",
   "metadata": {},
   "source": [
    "## 1-4 난수 배열의 생성\n",
    "## rand, randint, randn(가우시안 표준 정규 분포에서 난수 배열 생성)"
   ]
  },
  {
   "cell_type": "code",
   "execution_count": 47,
   "id": "3ebc6b12",
   "metadata": {},
   "outputs": [
    {
     "data": {
      "text/plain": [
       "0.01562591071107633"
      ]
     },
     "execution_count": 47,
     "metadata": {},
     "output_type": "execute_result"
    }
   ],
   "source": [
    "np.random.rand()"
   ]
  },
  {
   "cell_type": "code",
   "execution_count": 50,
   "id": "d757cc01",
   "metadata": {},
   "outputs": [
    {
     "data": {
      "text/plain": [
       "array([[0.94036114, 0.57263648, 0.75479014],\n",
       "       [0.50305578, 0.42795251, 0.15392854]])"
      ]
     },
     "execution_count": 50,
     "metadata": {},
     "output_type": "execute_result"
    }
   ],
   "source": [
    "np.random.rand(2, 3)"
   ]
  },
  {
   "cell_type": "code",
   "execution_count": 59,
   "id": "472db4f5",
   "metadata": {},
   "outputs": [
    {
     "data": {
      "text/plain": [
       "array([[[0.97929415, 0.67870167],\n",
       "        [0.856071  , 0.50692267],\n",
       "        [0.99858076, 0.52565824],\n",
       "        [0.53646056, 0.24186108],\n",
       "        [0.82629565, 0.55163729],\n",
       "        [0.77100556, 0.94782381]],\n",
       "\n",
       "       [[0.77418215, 0.03467905],\n",
       "        [0.18153722, 0.27404634],\n",
       "        [0.74685848, 0.72700435],\n",
       "        [0.72673925, 0.81660238],\n",
       "        [0.85732746, 0.40631684],\n",
       "        [0.92182003, 0.9461048 ]],\n",
       "\n",
       "       [[0.03506849, 0.47748354],\n",
       "        [0.31788296, 0.13254747],\n",
       "        [0.50412678, 0.05756434],\n",
       "        [0.7803024 , 0.86087181],\n",
       "        [0.1233814 , 0.29262637],\n",
       "        [0.56176335, 0.3676497 ]],\n",
       "\n",
       "       [[0.92974647, 0.20417451],\n",
       "        [0.05609879, 0.55952888],\n",
       "        [0.93152653, 0.86944274],\n",
       "        [0.47390497, 0.87019094],\n",
       "        [0.18679126, 0.75295633],\n",
       "        [0.99402898, 0.82859143]]])"
      ]
     },
     "execution_count": 59,
     "metadata": {},
     "output_type": "execute_result"
    }
   ],
   "source": [
    "np.random.rand(4, 6, 2)"
   ]
  },
  {
   "cell_type": "code",
   "execution_count": 60,
   "id": "f9be51ce",
   "metadata": {},
   "outputs": [
    {
     "data": {
      "text/plain": [
       "array([[3, 7, 5, 7],\n",
       "       [6, 8, 1, 9],\n",
       "       [8, 0, 4, 9]])"
      ]
     },
     "execution_count": 60,
     "metadata": {},
     "output_type": "execute_result"
    }
   ],
   "source": [
    "np.random.randint(10, size=(3,4))"
   ]
  },
  {
   "cell_type": "code",
   "execution_count": 62,
   "id": "a360c895",
   "metadata": {},
   "outputs": [
    {
     "data": {
      "text/plain": [
       "18"
      ]
     },
     "execution_count": 62,
     "metadata": {},
     "output_type": "execute_result"
    }
   ],
   "source": [
    "np.random.randint(1, 30)"
   ]
  },
  {
   "cell_type": "code",
   "execution_count": 63,
   "id": "c7d17184",
   "metadata": {},
   "outputs": [
    {
     "data": {
      "text/plain": [
       "array([ 0.69269078,  0.52032385,  2.44369488, -2.07936485])"
      ]
     },
     "execution_count": 63,
     "metadata": {},
     "output_type": "execute_result"
    }
   ],
   "source": [
    "np.random.randn(4)"
   ]
  },
  {
   "cell_type": "code",
   "execution_count": 65,
   "id": "55c103f0",
   "metadata": {},
   "outputs": [
    {
     "data": {
      "text/plain": [
       "array([[ 0.3444482 ,  0.63922327,  0.21505654, -1.29804736],\n",
       "       [-0.37327633, -0.56542212, -0.18677462, -0.29218162],\n",
       "       [-1.71565623, -0.62546239, -2.03145917,  0.15338798]])"
      ]
     },
     "execution_count": 65,
     "metadata": {},
     "output_type": "execute_result"
    }
   ],
   "source": [
    "np.random.randn(3, 4)"
   ]
  },
  {
   "cell_type": "markdown",
   "id": "7f156c45",
   "metadata": {},
   "source": [
    "# 2. 배열의 연산 "
   ]
  },
  {
   "cell_type": "code",
   "execution_count": 66,
   "id": "636bfdd4",
   "metadata": {},
   "outputs": [
    {
     "data": {
      "text/plain": [
       "array([0, 1, 2, 3, 4])"
      ]
     },
     "execution_count": 66,
     "metadata": {},
     "output_type": "execute_result"
    }
   ],
   "source": [
    "arr3 = np.arange(5)\n",
    "arr3"
   ]
  },
  {
   "cell_type": "code",
   "execution_count": 67,
   "id": "8444d27a",
   "metadata": {},
   "outputs": [
    {
     "data": {
      "text/plain": [
       "10"
      ]
     },
     "execution_count": 67,
     "metadata": {},
     "output_type": "execute_result"
    }
   ],
   "source": [
    "# 합\n",
    "arr3.sum()"
   ]
  },
  {
   "cell_type": "code",
   "execution_count": 68,
   "id": "17dc3f9d",
   "metadata": {},
   "outputs": [
    {
     "data": {
      "text/plain": [
       "2.0"
      ]
     },
     "execution_count": 68,
     "metadata": {},
     "output_type": "execute_result"
    }
   ],
   "source": [
    "#평균\n",
    "arr3.mean()"
   ]
  },
  {
   "cell_type": "code",
   "execution_count": 69,
   "id": "4911114a",
   "metadata": {},
   "outputs": [
    {
     "data": {
      "text/plain": [
       "1.4142135623730951"
      ]
     },
     "execution_count": 69,
     "metadata": {},
     "output_type": "execute_result"
    }
   ],
   "source": [
    "# 표준편차\n",
    "arr3.std()"
   ]
  },
  {
   "cell_type": "code",
   "execution_count": 70,
   "id": "e48b964e",
   "metadata": {},
   "outputs": [
    {
     "data": {
      "text/plain": [
       "2.0"
      ]
     },
     "execution_count": 70,
     "metadata": {},
     "output_type": "execute_result"
    }
   ],
   "source": [
    "# 분산\n",
    "arr3.var()"
   ]
  },
  {
   "cell_type": "code",
   "execution_count": 71,
   "id": "c592c2e5",
   "metadata": {},
   "outputs": [
    {
     "data": {
      "text/plain": [
       "0"
      ]
     },
     "execution_count": 71,
     "metadata": {},
     "output_type": "execute_result"
    }
   ],
   "source": [
    "# 최솟값\n",
    "arr3.min()"
   ]
  },
  {
   "cell_type": "code",
   "execution_count": 72,
   "id": "c99c726b",
   "metadata": {},
   "outputs": [
    {
     "data": {
      "text/plain": [
       "4"
      ]
     },
     "execution_count": 72,
     "metadata": {},
     "output_type": "execute_result"
    }
   ],
   "source": [
    "# 최댓값\n",
    "arr3.max()"
   ]
  },
  {
   "cell_type": "code",
   "execution_count": 74,
   "id": "edd681bc",
   "metadata": {},
   "outputs": [
    {
     "data": {
      "text/plain": [
       "array([1, 2, 3, 4, 5])"
      ]
     },
     "execution_count": 74,
     "metadata": {},
     "output_type": "execute_result"
    }
   ],
   "source": [
    "arr4=np.arange(1, 6)\n",
    "arr4"
   ]
  },
  {
   "cell_type": "code",
   "execution_count": 75,
   "id": "a25fdca6",
   "metadata": {},
   "outputs": [
    {
     "data": {
      "text/plain": [
       "array([ 1,  3,  6, 10, 15], dtype=int32)"
      ]
     },
     "execution_count": 75,
     "metadata": {},
     "output_type": "execute_result"
    }
   ],
   "source": [
    "# 누적 합\n",
    "arr4.cumsum()"
   ]
  },
  {
   "cell_type": "code",
   "execution_count": 76,
   "id": "76b31e86",
   "metadata": {},
   "outputs": [
    {
     "data": {
      "text/plain": [
       "array([  1,   2,   6,  24, 120], dtype=int32)"
      ]
     },
     "execution_count": 76,
     "metadata": {},
     "output_type": "execute_result"
    }
   ],
   "source": [
    "# 누적 곱\n",
    "arr4.cumprod()"
   ]
  },
  {
   "cell_type": "markdown",
   "id": "a36d4111",
   "metadata": {},
   "source": [
    "## 2-1 행렬 연산\n",
    "### dot 행렬곱\n",
    "### transpose전치행렬(행과 열을 바꾼 행렬)\n",
    "### linalg.inv역행렬(axb=1이 되는 행렬)\n",
    "### linalg.det행렬식"
   ]
  },
  {
   "cell_type": "code",
   "execution_count": 89,
   "id": "d2175571",
   "metadata": {},
   "outputs": [
    {
     "name": "stdout",
     "output_type": "stream",
     "text": [
      "[[0 1]\n",
      " [2 3]] \n",
      "\n",
      "[[3 2]\n",
      " [0 1]]\n"
     ]
    }
   ],
   "source": [
    "a = np.array([0, 1, 2, 3]).reshape(2,2)\n",
    "b= np.array([3, 2, 0, 1]).reshape(2,2)\n",
    "print(a,'\\n')\n",
    "print(b)"
   ]
  },
  {
   "cell_type": "code",
   "execution_count": 93,
   "id": "456bf219",
   "metadata": {},
   "outputs": [
    {
     "data": {
      "text/plain": [
       "array([[0, 1],\n",
       "       [6, 7]])"
      ]
     },
     "execution_count": 93,
     "metadata": {},
     "output_type": "execute_result"
    }
   ],
   "source": [
    "# 곱셈 1\n",
    "a.dot(b)"
   ]
  },
  {
   "cell_type": "code",
   "execution_count": 94,
   "id": "a0ab0fb0",
   "metadata": {},
   "outputs": [
    {
     "data": {
      "text/plain": [
       "array([[0, 1],\n",
       "       [6, 7]])"
      ]
     },
     "execution_count": 94,
     "metadata": {},
     "output_type": "execute_result"
    }
   ],
   "source": [
    "# 곱셈 2\n",
    "np.dot(a, b)"
   ]
  },
  {
   "cell_type": "code",
   "execution_count": 105,
   "id": "e42908c4",
   "metadata": {},
   "outputs": [
    {
     "data": {
      "text/plain": [
       "array([[0, 1],\n",
       "       [2, 3],\n",
       "       [4, 5]])"
      ]
     },
     "execution_count": 105,
     "metadata": {},
     "output_type": "execute_result"
    }
   ],
   "source": [
    "c = np.array([0, 1, 2, 3, 4, 5]).reshape(3,2)\n",
    "c"
   ]
  },
  {
   "cell_type": "code",
   "execution_count": 102,
   "id": "94004e3c",
   "metadata": {},
   "outputs": [
    {
     "data": {
      "text/plain": [
       "array([[0, 2, 4],\n",
       "       [1, 3, 5]])"
      ]
     },
     "execution_count": 102,
     "metadata": {},
     "output_type": "execute_result"
    }
   ],
   "source": [
    "# 전치 행렬 1\n",
    "np.transpose(c)"
   ]
  },
  {
   "cell_type": "code",
   "execution_count": 103,
   "id": "f3f69d76",
   "metadata": {},
   "outputs": [
    {
     "data": {
      "text/plain": [
       "array([[0, 2, 4],\n",
       "       [1, 3, 5]])"
      ]
     },
     "execution_count": 103,
     "metadata": {},
     "output_type": "execute_result"
    }
   ],
   "source": [
    "# 전치 행렬 2\n",
    "c.transpose()"
   ]
  },
  {
   "cell_type": "code",
   "execution_count": 107,
   "id": "87d96397",
   "metadata": {},
   "outputs": [
    {
     "data": {
      "text/plain": [
       "array([[-1.5,  0.5],\n",
       "       [ 1. ,  0. ]])"
      ]
     },
     "execution_count": 107,
     "metadata": {},
     "output_type": "execute_result"
    }
   ],
   "source": [
    "# 역행렬 \n",
    "np.linalg.inv(a)"
   ]
  },
  {
   "cell_type": "code",
   "execution_count": 99,
   "id": "c27d29bb",
   "metadata": {},
   "outputs": [
    {
     "data": {
      "text/plain": [
       "-2.0"
      ]
     },
     "execution_count": 99,
     "metadata": {},
     "output_type": "execute_result"
    }
   ],
   "source": [
    "# 행렬식\n",
    "np.linalg.det(a)"
   ]
  },
  {
   "cell_type": "markdown",
   "id": "eb6b82a8",
   "metadata": {},
   "source": [
    "# 3. 배열의 인덱싱과 슬라이싱"
   ]
  },
  {
   "cell_type": "markdown",
   "id": "6ca35194",
   "metadata": {},
   "source": [
    "## 3-1 인덱싱"
   ]
  },
  {
   "cell_type": "markdown",
   "id": "7a61a701",
   "metadata": {},
   "source": [
    "## 3-1-1) 1차원 배열"
   ]
  },
  {
   "cell_type": "code",
   "execution_count": 112,
   "id": "7c478600",
   "metadata": {},
   "outputs": [
    {
     "data": {
      "text/plain": [
       "array([ 0, 10, 20, 30, 40, 50])"
      ]
     },
     "execution_count": 112,
     "metadata": {},
     "output_type": "execute_result"
    }
   ],
   "source": [
    "a1= np.arange(0,51,10)\n",
    "a1"
   ]
  },
  {
   "cell_type": "code",
   "execution_count": 114,
   "id": "cac7738d",
   "metadata": {},
   "outputs": [
    {
     "data": {
      "text/plain": [
       "10"
      ]
     },
     "execution_count": 114,
     "metadata": {},
     "output_type": "execute_result"
    }
   ],
   "source": [
    "a1[1]"
   ]
  },
  {
   "cell_type": "code",
   "execution_count": 116,
   "id": "3574df0d",
   "metadata": {},
   "outputs": [
    {
     "data": {
      "text/plain": [
       "array([ 0, 70, 20, 30, 40, 50])"
      ]
     },
     "execution_count": 116,
     "metadata": {},
     "output_type": "execute_result"
    }
   ],
   "source": [
    "# 기존 원소 변경\n",
    "a1[1]= 70\n",
    "a1"
   ]
  },
  {
   "cell_type": "code",
   "execution_count": 118,
   "id": "77d1e1a3",
   "metadata": {},
   "outputs": [
    {
     "data": {
      "text/plain": [
       "array([ 0, 70, 20, 30])"
      ]
     },
     "execution_count": 118,
     "metadata": {},
     "output_type": "execute_result"
    }
   ],
   "source": [
    "# 여러개의 원소 선택\n",
    "a1[[0, 1, 2, 3]]"
   ]
  },
  {
   "cell_type": "markdown",
   "id": "955d4291",
   "metadata": {},
   "source": [
    "## 3-1-2) 2차원 배열"
   ]
  },
  {
   "cell_type": "code",
   "execution_count": 120,
   "id": "6d2b5c1e",
   "metadata": {},
   "outputs": [
    {
     "data": {
      "text/plain": [
       "array([[10, 20, 30],\n",
       "       [40, 50, 60],\n",
       "       [70, 80, 90]])"
      ]
     },
     "execution_count": 120,
     "metadata": {},
     "output_type": "execute_result"
    }
   ],
   "source": [
    "a2 = np.arange(10, 100, 10).reshape(3,3)\n",
    "a2"
   ]
  },
  {
   "cell_type": "code",
   "execution_count": 121,
   "id": "89c2ed86",
   "metadata": {},
   "outputs": [
    {
     "data": {
      "text/plain": [
       "30"
      ]
     },
     "execution_count": 121,
     "metadata": {},
     "output_type": "execute_result"
    }
   ],
   "source": [
    "a2[0, 2]"
   ]
  },
  {
   "cell_type": "code",
   "execution_count": 123,
   "id": "682a871d",
   "metadata": {},
   "outputs": [
    {
     "data": {
      "text/plain": [
       "array([[10, 20, 50],\n",
       "       [40, 50, 60],\n",
       "       [70, 80, 90]])"
      ]
     },
     "execution_count": 123,
     "metadata": {},
     "output_type": "execute_result"
    }
   ],
   "source": [
    "# 기존 원소 변경\n",
    "\n",
    "a2[0, 2] = 50\n",
    "a2"
   ]
  },
  {
   "cell_type": "code",
   "execution_count": 124,
   "id": "b15aa1c4",
   "metadata": {},
   "outputs": [
    {
     "data": {
      "text/plain": [
       "array([10, 20, 50])"
      ]
     },
     "execution_count": 124,
     "metadata": {},
     "output_type": "execute_result"
    }
   ],
   "source": [
    "# 행 전체\n",
    "\n",
    "a2[0] "
   ]
  },
  {
   "cell_type": "code",
   "execution_count": 126,
   "id": "e23c5a1e",
   "metadata": {},
   "outputs": [
    {
     "data": {
      "text/plain": [
       "array([[44, 55, 66],\n",
       "       [40, 50, 60],\n",
       "       [70, 80, 90]])"
      ]
     },
     "execution_count": 126,
     "metadata": {},
     "output_type": "execute_result"
    }
   ],
   "source": [
    "# 행 전체 원소값 변경\n",
    "\n",
    "a2[0] = np.array([44, 55, 66])\n",
    "a2"
   ]
  },
  {
   "cell_type": "code",
   "execution_count": 127,
   "id": "a57ca8d7",
   "metadata": {},
   "outputs": [
    {
     "data": {
      "text/plain": [
       "array([44, 55])"
      ]
     },
     "execution_count": 127,
     "metadata": {},
     "output_type": "execute_result"
    }
   ],
   "source": [
    "# 여러 원소 선택해서 가져오기\n",
    "# a[ [행 위치1, 행 위치2, ..], [열 위치1, 열 위치2, ..] ] => [(행1,열1), (행2, 열2), ...]\n",
    "\n",
    "a2[[0],[0, 1]] # 0행 0열, 1열"
   ]
  },
  {
   "cell_type": "code",
   "execution_count": 129,
   "id": "e8189961",
   "metadata": {},
   "outputs": [
    {
     "data": {
      "text/plain": [
       "array([44, 80])"
      ]
     },
     "execution_count": 129,
     "metadata": {},
     "output_type": "execute_result"
    }
   ],
   "source": [
    "a2[[0, 2], [0, 1]] # 0행 0열 , 2행 1열"
   ]
  },
  {
   "cell_type": "code",
   "execution_count": 131,
   "id": "60a7bfb7",
   "metadata": {},
   "outputs": [
    {
     "data": {
      "text/plain": [
       "array([4, 5, 6])"
      ]
     },
     "execution_count": 131,
     "metadata": {},
     "output_type": "execute_result"
    }
   ],
   "source": [
    "# 조건 지정\n",
    "a = np.arange(1, 7)\n",
    "a[a > 3]"
   ]
  },
  {
   "cell_type": "code",
   "execution_count": 133,
   "id": "4aebac9d",
   "metadata": {},
   "outputs": [
    {
     "data": {
      "text/plain": [
       "array([2, 4, 6])"
      ]
     },
     "execution_count": 133,
     "metadata": {},
     "output_type": "execute_result"
    }
   ],
   "source": [
    "a[(a % 2) == 0] # 짝수"
   ]
  },
  {
   "cell_type": "markdown",
   "id": "f6085a53",
   "metadata": {},
   "source": [
    "## 3-2) 슬라이싱"
   ]
  },
  {
   "cell_type": "code",
   "execution_count": 134,
   "id": "d8db4ab2",
   "metadata": {},
   "outputs": [
    {
     "data": {
      "text/plain": [
       "array([ 0, 10, 20, 30, 40, 50])"
      ]
     },
     "execution_count": 134,
     "metadata": {},
     "output_type": "execute_result"
    }
   ],
   "source": [
    "b1 = np.arange(0, 60, 10)\n",
    "b1"
   ]
  },
  {
   "cell_type": "code",
   "execution_count": 136,
   "id": "7443b940",
   "metadata": {},
   "outputs": [
    {
     "data": {
      "text/plain": [
       "array([10, 20, 30])"
      ]
     },
     "execution_count": 136,
     "metadata": {},
     "output_type": "execute_result"
    }
   ],
   "source": [
    "b1[1:4]"
   ]
  },
  {
   "cell_type": "code",
   "execution_count": 138,
   "id": "1e5c2e7e",
   "metadata": {},
   "outputs": [
    {
     "data": {
      "text/plain": [
       "array([ 0, 10, 20, 30])"
      ]
     },
     "execution_count": 138,
     "metadata": {},
     "output_type": "execute_result"
    }
   ],
   "source": [
    "b1[:4]"
   ]
  },
  {
   "cell_type": "code",
   "execution_count": 139,
   "id": "ec5c1d04",
   "metadata": {},
   "outputs": [
    {
     "data": {
      "text/plain": [
       "array([10, 20, 30, 40, 50])"
      ]
     },
     "execution_count": 139,
     "metadata": {},
     "output_type": "execute_result"
    }
   ],
   "source": [
    "b1[1:]"
   ]
  },
  {
   "cell_type": "code",
   "execution_count": 140,
   "id": "5188b9d5",
   "metadata": {},
   "outputs": [
    {
     "data": {
      "text/plain": [
       "array([ 0, 24, 34, 54, 40, 50])"
      ]
     },
     "execution_count": 140,
     "metadata": {},
     "output_type": "execute_result"
    }
   ],
   "source": [
    "# 원소값 변경\n",
    "\n",
    "b1[1:4] = np.array([24, 34, 54])\n",
    "b1"
   ]
  },
  {
   "cell_type": "code",
   "execution_count": 141,
   "id": "c581ab61",
   "metadata": {},
   "outputs": [
    {
     "data": {
      "text/plain": [
       "array([[10, 20, 30],\n",
       "       [40, 50, 60],\n",
       "       [70, 80, 90]])"
      ]
     },
     "execution_count": 141,
     "metadata": {},
     "output_type": "execute_result"
    }
   ],
   "source": [
    "b2 =np.arange(10, 100, 10).reshape(3, 3)\n",
    "b2"
   ]
  },
  {
   "cell_type": "code",
   "execution_count": 143,
   "id": "d09561cf",
   "metadata": {},
   "outputs": [
    {
     "data": {
      "text/plain": [
       "array([[10, 20, 30],\n",
       "       [40, 50, 60]])"
      ]
     },
     "execution_count": 143,
     "metadata": {},
     "output_type": "execute_result"
    }
   ],
   "source": [
    "b2[0:2, 0:]"
   ]
  },
  {
   "cell_type": "code",
   "execution_count": 144,
   "id": "0ed4af1f",
   "metadata": {},
   "outputs": [
    {
     "data": {
      "text/plain": [
       "array([70, 80])"
      ]
     },
     "execution_count": 144,
     "metadata": {},
     "output_type": "execute_result"
    }
   ],
   "source": [
    "# 행 지정\n",
    "\n",
    "b2[2][0:2]"
   ]
  },
  {
   "cell_type": "code",
   "execution_count": 145,
   "id": "8a9a3434",
   "metadata": {},
   "outputs": [
    {
     "data": {
      "text/plain": [
       "array([[ 1,  2,  3],\n",
       "       [ 4,  5,  6],\n",
       "       [70, 80, 90]])"
      ]
     },
     "execution_count": 145,
     "metadata": {},
     "output_type": "execute_result"
    }
   ],
   "source": [
    "# 원소 값 변경\n",
    "b2[0:2, 0:]  = np.array([[1, 2, 3],\n",
    "                        [4, 5, 6]])\n",
    "b2"
   ]
  }
 ],
 "metadata": {
  "kernelspec": {
   "display_name": "Python 3 (ipykernel)",
   "language": "python",
   "name": "python3"
  },
  "language_info": {
   "codemirror_mode": {
    "name": "ipython",
    "version": 3
   },
   "file_extension": ".py",
   "mimetype": "text/x-python",
   "name": "python",
   "nbconvert_exporter": "python",
   "pygments_lexer": "ipython3",
   "version": "3.9.12"
  }
 },
 "nbformat": 4,
 "nbformat_minor": 5
}
